{
 "cells": [
  {
   "cell_type": "code",
   "execution_count": 1,
   "id": "dcb15ade",
   "metadata": {},
   "outputs": [
    {
     "name": "stdin",
     "output_type": "stream",
     "text": [
      "請輸入想去的顏色: blue\n"
     ]
    },
    {
     "name": "stdout",
     "output_type": "stream",
     "text": [
      "blue.html\n",
      "navy.html\n",
      "green.html\n",
      "到達blue.html最少會經過2個節點\n"
     ]
    }
   ],
   "source": [
    "import bs4\n",
    "from bs4 import BeautifulSoup\n",
    "import urllib\n",
    "from collections import deque\n",
    "\n",
    "root=\"green.html\"\n",
    "nodes_list=deque()\n",
    "nodes_list.append(root)\n",
    "visited =set()\n",
    "maps=dict()\n",
    "#target = 'gold.html'\n",
    "target = input(\"請輸入想去的顏色:\")\n",
    "target = target+'.html'\n",
    "print(target)\n",
    "while (target not in visited):\n",
    "    node=nodes_list.popleft()\n",
    "    fullnode=\"https://red574890.github.io/colors.github.io/\"+node\n",
    "    with urllib.request.urlopen(fullnode, data=None, timeout=5) as response:\n",
    "        soup = bs4.BeautifulSoup(response)\n",
    "    for child in soup.find_all('a'):\n",
    "        if(child['href'] not in visited ):\n",
    "            nodes_list.append(child['href'])\n",
    "            maps[child['href']]=node\n",
    "    visited.add(node)\n",
    "\n",
    "original = target\n",
    "flag = 1\n",
    "while True:\n",
    "    if maps[target]!= root :\n",
    "        target= maps[target]\n",
    "        print(target)\n",
    "        flag +=1\n",
    "        continue\n",
    "    else:\n",
    "        print(maps[target])\n",
    "        break\n",
    "print('到達'+original +'最少會經過' + str(flag)+'個節點')\n"
   ]
  },
  {
   "cell_type": "code",
   "execution_count": null,
   "id": "6625cb45-ce23-4f0a-9b41-0b107f3c4bf7",
   "metadata": {},
   "outputs": [],
   "source": []
  }
 ],
 "metadata": {
  "kernelspec": {
   "display_name": "Python 3 (ipykernel)",
   "language": "python",
   "name": "python3"
  },
  "language_info": {
   "codemirror_mode": {
    "name": "ipython",
    "version": 3
   },
   "file_extension": ".py",
   "mimetype": "text/x-python",
   "name": "python",
   "nbconvert_exporter": "python",
   "pygments_lexer": "ipython3",
   "version": "3.9.12"
  }
 },
 "nbformat": 4,
 "nbformat_minor": 5
}
