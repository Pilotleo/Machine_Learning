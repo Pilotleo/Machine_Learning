{
 "cells": [
  {
   "cell_type": "markdown",
   "id": "21827d50-7aac-4142-ad61-52160953b7a7",
   "metadata": {},
   "source": [
    "時間複雜度\n",
    "LinkedList\n",
    "Insert \n",
    "\n",
    "LinkedList->O(1)\n",
    "List->O(n)\n",
    "\n",
    "delete\n",
    "LinkedList->O(1)\n",
    "List->O(n)\n",
    "\n",
    "call\n",
    "\n",
    "LinkedList->O(n)\n",
    "List->O(1)\n",
    "\n",
    "SQL通常在call的方式會是log(n)"
   ]
  },
  {
   "cell_type": "markdown",
   "id": "1425493a-d433-417a-8bd1-88a27c6c1568",
   "metadata": {},
   "source": [
    "Linear Regression\n",
    "有很多的資料，用線性的方式來表現資料的趨勢。\n",
    "The basic steps for a machine learning algorithms\n",
    "1.Identify the problem (linear,classification)\n",
    "2.Define cost function (convex, non convex)(損失函數或是成本函數）cost function就是判斷錯的機率\n",
    "3.Find a way to decrease cost\n",
    "\n",
    "Non-convex（例如神經元）\n",
    "Local minium vs. Globe minium\n",
    "\n",
    "K-mean  unsupervised\n",
    "Linear Regression都是 supervised\n",
    "\n"
   ]
  },
  {
   "cell_type": "markdown",
   "id": "5bef883c-0d13-4ce3-ba15-d303627d0ef0",
   "metadata": {},
   "source": [
    "Linear Regression 的\n",
    "會有不同的weight（權重），去乘予不同的x,x1,x2,x3\n",
    "\n",
    "相關公示是透過微積分來的"
   ]
  },
  {
   "cell_type": "code",
   "execution_count": null,
   "id": "31f437c6-ee5c-408a-a69c-6e43bc340fd8",
   "metadata": {},
   "outputs": [],
   "source": [
    "import matplotlib.pyplot as plt\n",
    "\n",
    "import pandas as pd\n",
    "from sklearn import datasets\n",
    "import numpy as np\n",
    "from numpy.linalg import inv\n",
    "\n",
    "# import some data to play with\n",
    "iris = datasets.load_iris()\n",
    "iris"
   ]
  },
  {
   "cell_type": "code",
   "execution_count": 9,
   "id": "be319236-2242-4903-8ddd-fa3b107432ac",
   "metadata": {},
   "outputs": [],
   "source": [
    "df= pd.DataFrame(iris['data'])\n",
    "df.columns= iris['feature_names']"
   ]
  },
  {
   "cell_type": "code",
   "execution_count": 10,
   "id": "fd78a5b8-0713-473b-81ce-d4e566f826f3",
   "metadata": {},
   "outputs": [],
   "source": [
    "df['Intercept'] =1"
   ]
  },
  {
   "cell_type": "code",
   "execution_count": 11,
   "id": "09d0b8e0-b418-4c44-8396-97754e02cf7c",
   "metadata": {},
   "outputs": [],
   "source": [
    "# Use sepal width (cm) petal length (cm) petal width (cm) to predict sepal length (cm)\n",
    "Y = df['sepal length (cm)'].to_numpy()\n",
    "X = df[['Intercept','sepal width (cm)',\n",
    " 'petal length (cm)',\n",
    " 'petal width (cm)']].to_numpy()"
   ]
  },
  {
   "cell_type": "code",
   "execution_count": 12,
   "id": "33792d2d-1d32-437a-8105-5d7fb33300a5",
   "metadata": {},
   "outputs": [
    {
     "data": {
      "text/plain": [
       "array([ 1.85599749,  0.65083716,  0.70913196, -0.55648266])"
      ]
     },
     "execution_count": 12,
     "metadata": {},
     "output_type": "execute_result"
    }
   ],
   "source": [
    "#Calc predict\n",
    "beta = np.dot(np.dot(X.transpose(),Y),inv(np.dot(X.transpose(),X)))\n",
    "beta"
   ]
  },
  {
   "cell_type": "code",
   "execution_count": null,
   "id": "d15fc11d-7264-4eb7-a54d-c6190831b60a",
   "metadata": {},
   "outputs": [],
   "source": [
    "np.dot(X,beta)"
   ]
  },
  {
   "cell_type": "markdown",
   "id": "974ed11e-9145-4aca-8a06-b1f38e9e89c9",
   "metadata": {},
   "source": [
    "如果沒有inverse matrix 怎麼辦，就要找sudo inverse ，可能未必都是1，讓他是0.9之累的\n",
    "\n",
    "ridge regression\n",
    "lasso regression\n",
    "\n",
    "兩個都可以避免overfitting\n",
    "weight 越大，error會越高，理論上會希望weight越小越好，\n",
    "\n",
    "多考慮了w，所以就會希望w不要過度膨脹。\n",
    "\n",
    "ridge regression\n",
    "(y-wb)*2+w*2 =e\n",
    "\n",
    "\n",
    "lasso regression\n",
    "(y-wb)*2+|w| = e\n",
    "\n",
    "當加入weight，就不會有最佳解，所以gradient descent"
   ]
  }
 ],
 "metadata": {
  "kernelspec": {
   "display_name": "Python 3 (ipykernel)",
   "language": "python",
   "name": "python3"
  },
  "language_info": {
   "codemirror_mode": {
    "name": "ipython",
    "version": 3
   },
   "file_extension": ".py",
   "mimetype": "text/x-python",
   "name": "python",
   "nbconvert_exporter": "python",
   "pygments_lexer": "ipython3",
   "version": "3.9.12"
  }
 },
 "nbformat": 4,
 "nbformat_minor": 5
}
