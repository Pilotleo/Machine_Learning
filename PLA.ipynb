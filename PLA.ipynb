{
 "cells": [
  {
   "cell_type": "code",
   "execution_count": 1,
   "id": "843008eb",
   "metadata": {
    "ExecuteTime": {
     "end_time": "2023-02-05T04:42:11.116215Z",
     "start_time": "2023-02-05T04:42:09.951449Z"
    }
   },
   "outputs": [],
   "source": [
    "import pandas as pd\n",
    "import numpy as np\n",
    "import seaborn as sns\n",
    "import random\n",
    "#固定跑500次\n",
    "\n",
    "data=pd.read_csv('hw1_18_train.dat.txt',sep=' ',header=None)\n",
    "data.columns = ['X1','X2','X3','X4','Y']\n",
    "\n",
    "data['X0']=1\n",
    "start=random.randint(0,500)\n",
    "data.iloc[start]\n",
    "# shift column 'Name' to first position\n",
    "first_column = data.pop('X0')\n",
    "\n",
    "# insert column using insert(position,column_name,\n",
    "# first_column) function\n",
    "data.insert(0, 'X0', first_column)"
   ]
  },
  {
   "cell_type": "code",
   "execution_count": 2,
   "id": "29a5a846",
   "metadata": {
    "ExecuteTime": {
     "end_time": "2023-02-05T04:42:11.132215Z",
     "start_time": "2023-02-05T04:42:11.119215Z"
    }
   },
   "outputs": [],
   "source": [
    "def sign(x):\n",
    "    if x>0:\n",
    "        return 1\n",
    "    elif x<0:\n",
    "        return -1\n"
   ]
  },
  {
   "cell_type": "code",
   "execution_count": 3,
   "id": "8606a85b",
   "metadata": {},
   "outputs": [
    {
     "data": {
      "text/plain": [
       "array([[1.     , 0.94544, 0.42842, 0.79833, 0.16244]])"
      ]
     },
     "execution_count": 3,
     "metadata": {},
     "output_type": "execute_result"
    }
   ],
   "source": [
    "w=np.array(data[['X0','X1','X2','X3','X4']].iloc[0])[np.newaxis]"
   ]
  },
  {
   "cell_type": "code",
   "execution_count": 5,
   "id": "cc6001eb",
   "metadata": {},
   "outputs": [],
   "source": [
    "data = data.sample(frac=1).reset_index(drop = True)"
   ]
  },
  {
   "cell_type": "code",
   "execution_count": 6,
   "id": "6881194e",
   "metadata": {},
   "outputs": [
    {
     "data": {
      "text/html": [
       "<div>\n",
       "<style scoped>\n",
       "    .dataframe tbody tr th:only-of-type {\n",
       "        vertical-align: middle;\n",
       "    }\n",
       "\n",
       "    .dataframe tbody tr th {\n",
       "        vertical-align: top;\n",
       "    }\n",
       "\n",
       "    .dataframe thead th {\n",
       "        text-align: right;\n",
       "    }\n",
       "</style>\n",
       "<table border=\"1\" class=\"dataframe\">\n",
       "  <thead>\n",
       "    <tr style=\"text-align: right;\">\n",
       "      <th></th>\n",
       "      <th>X0</th>\n",
       "      <th>X1</th>\n",
       "      <th>X2</th>\n",
       "      <th>X3</th>\n",
       "      <th>X4</th>\n",
       "      <th>Y</th>\n",
       "    </tr>\n",
       "  </thead>\n",
       "  <tbody>\n",
       "    <tr>\n",
       "      <th>0</th>\n",
       "      <td>1</td>\n",
       "      <td>0.567790</td>\n",
       "      <td>0.54134</td>\n",
       "      <td>0.303240</td>\n",
       "      <td>0.21922</td>\n",
       "      <td>1</td>\n",
       "    </tr>\n",
       "    <tr>\n",
       "      <th>1</th>\n",
       "      <td>1</td>\n",
       "      <td>0.899300</td>\n",
       "      <td>0.53183</td>\n",
       "      <td>0.679290</td>\n",
       "      <td>0.58757</td>\n",
       "      <td>1</td>\n",
       "    </tr>\n",
       "    <tr>\n",
       "      <th>2</th>\n",
       "      <td>1</td>\n",
       "      <td>0.492370</td>\n",
       "      <td>0.13036</td>\n",
       "      <td>0.615080</td>\n",
       "      <td>0.86846</td>\n",
       "      <td>1</td>\n",
       "    </tr>\n",
       "    <tr>\n",
       "      <th>3</th>\n",
       "      <td>1</td>\n",
       "      <td>0.107930</td>\n",
       "      <td>0.67764</td>\n",
       "      <td>0.046448</td>\n",
       "      <td>0.42205</td>\n",
       "      <td>-1</td>\n",
       "    </tr>\n",
       "    <tr>\n",
       "      <th>4</th>\n",
       "      <td>1</td>\n",
       "      <td>0.907390</td>\n",
       "      <td>0.54535</td>\n",
       "      <td>0.504650</td>\n",
       "      <td>0.48081</td>\n",
       "      <td>-1</td>\n",
       "    </tr>\n",
       "    <tr>\n",
       "      <th>...</th>\n",
       "      <td>...</td>\n",
       "      <td>...</td>\n",
       "      <td>...</td>\n",
       "      <td>...</td>\n",
       "      <td>...</td>\n",
       "      <td>...</td>\n",
       "    </tr>\n",
       "    <tr>\n",
       "      <th>495</th>\n",
       "      <td>1</td>\n",
       "      <td>0.485620</td>\n",
       "      <td>0.81802</td>\n",
       "      <td>0.596000</td>\n",
       "      <td>0.30847</td>\n",
       "      <td>-1</td>\n",
       "    </tr>\n",
       "    <tr>\n",
       "      <th>496</th>\n",
       "      <td>1</td>\n",
       "      <td>0.699230</td>\n",
       "      <td>0.19624</td>\n",
       "      <td>0.052588</td>\n",
       "      <td>0.50421</td>\n",
       "      <td>1</td>\n",
       "    </tr>\n",
       "    <tr>\n",
       "      <th>497</th>\n",
       "      <td>1</td>\n",
       "      <td>0.075177</td>\n",
       "      <td>0.38532</td>\n",
       "      <td>0.633360</td>\n",
       "      <td>0.48658</td>\n",
       "      <td>1</td>\n",
       "    </tr>\n",
       "    <tr>\n",
       "      <th>498</th>\n",
       "      <td>1</td>\n",
       "      <td>0.129550</td>\n",
       "      <td>0.57860</td>\n",
       "      <td>0.797140</td>\n",
       "      <td>0.31898</td>\n",
       "      <td>-1</td>\n",
       "    </tr>\n",
       "    <tr>\n",
       "      <th>499</th>\n",
       "      <td>1</td>\n",
       "      <td>0.662350</td>\n",
       "      <td>0.89901</td>\n",
       "      <td>0.025559</td>\n",
       "      <td>0.60776</td>\n",
       "      <td>-1</td>\n",
       "    </tr>\n",
       "  </tbody>\n",
       "</table>\n",
       "<p>500 rows × 6 columns</p>\n",
       "</div>"
      ],
      "text/plain": [
       "     X0        X1       X2        X3       X4  Y\n",
       "0     1  0.567790  0.54134  0.303240  0.21922  1\n",
       "1     1  0.899300  0.53183  0.679290  0.58757  1\n",
       "2     1  0.492370  0.13036  0.615080  0.86846  1\n",
       "3     1  0.107930  0.67764  0.046448  0.42205 -1\n",
       "4     1  0.907390  0.54535  0.504650  0.48081 -1\n",
       "..   ..       ...      ...       ...      ... ..\n",
       "495   1  0.485620  0.81802  0.596000  0.30847 -1\n",
       "496   1  0.699230  0.19624  0.052588  0.50421  1\n",
       "497   1  0.075177  0.38532  0.633360  0.48658  1\n",
       "498   1  0.129550  0.57860  0.797140  0.31898 -1\n",
       "499   1  0.662350  0.89901  0.025559  0.60776 -1\n",
       "\n",
       "[500 rows x 6 columns]"
      ]
     },
     "execution_count": 6,
     "metadata": {},
     "output_type": "execute_result"
    }
   ],
   "source": [
    "data"
   ]
  },
  {
   "cell_type": "code",
   "execution_count": null,
   "id": "b435c0d3",
   "metadata": {
    "ExecuteTime": {
     "end_time": "2023-02-05T04:42:12.421194Z",
     "start_time": "2023-02-05T04:42:11.206221Z"
    }
   },
   "outputs": [],
   "source": [
    "w=np.array(data[['X0','X1','X2','X3','X4']].iloc[0])[np.newaxis]\n",
    "# W = np.array(df_train[['x0','x1','x2','x3','x4']].iloc[0])[np.newaxis]\n",
    "data = data.sample(frac=1).reset_index(drop = True)\n",
    "Error=[]\n",
    "n=500\n",
    "for i in range(n):\n",
    "    w=w/(sum(w**2))**0.5\n",
    "    data['y_hat']=np.dot(data[['X0','X1','X2','X3','X4']],w.transpose())\n",
    "    data['y_hat']=data['y_hat'].apply(lambda x:sign(x))\n",
    "    d_error=data[data['Y']!=data['y_hat']]\n",
    "    random_dot=np.random.randint(0,len(d_error))\n",
    "    err=d_error.iloc[random_dot][['X0','X1','X2','X3','X4']]*d_error.iloc[random_dot]['Y']\n",
    "    err=err/(sum(err**2))**0.5\n",
    "    err=np.array(err).reshape(5,1)\n",
    "#     print(err)\n",
    "    w=w+err\n",
    "    err_rate=len(d_error)/len(data)\n",
    "#     print('err_rate:',err_rate,'w:',w,'err:',err,'w-err:',w-err)\n",
    "    Error.append(err_rate)"
   ]
  },
  {
   "cell_type": "code",
   "execution_count": null,
   "id": "120decd1",
   "metadata": {
    "ExecuteTime": {
     "end_time": "2023-02-05T04:44:52.780356Z",
     "start_time": "2023-02-05T04:44:52.759356Z"
    }
   },
   "outputs": [],
   "source": [
    "Error"
   ]
  },
  {
   "cell_type": "code",
   "execution_count": null,
   "id": "21485135",
   "metadata": {
    "ExecuteTime": {
     "end_time": "2023-02-05T04:42:13.231466Z",
     "start_time": "2023-02-05T04:42:13.214458Z"
    }
   },
   "outputs": [],
   "source": [
    "data.iloc[498]"
   ]
  },
  {
   "cell_type": "code",
   "execution_count": null,
   "id": "86375066",
   "metadata": {
    "ExecuteTime": {
     "end_time": "2023-02-05T04:42:03.198936Z",
     "start_time": "2023-02-05T04:42:02.952427Z"
    }
   },
   "outputs": [],
   "source": [
    "forplot = {'Error':Error,\n",
    "           'Iteration':list(range(0,n))}\n",
    "\n",
    "forplot = pd.DataFrame(forplot)\n",
    "sns.lineplot(data=forplot,x='Iteration',y='Error')\n"
   ]
  },
  {
   "cell_type": "code",
   "execution_count": null,
   "id": "8cfe21ba",
   "metadata": {
    "ExecuteTime": {
     "end_time": "2023-02-05T04:05:44.133733Z",
     "start_time": "2023-02-05T04:05:44.114210Z"
    }
   },
   "outputs": [],
   "source": [
    "y_hat=np.dot(data[['X0','X1','X2','X3','X4']],w.transpose())"
   ]
  },
  {
   "cell_type": "code",
   "execution_count": null,
   "id": "bb25b3af",
   "metadata": {
    "ExecuteTime": {
     "end_time": "2023-02-05T04:07:40.114307Z",
     "start_time": "2023-02-05T04:07:40.104306Z"
    }
   },
   "outputs": [],
   "source": [
    "data['y_hat']=y_hat\n",
    "data['y_hat']=data['y_hat'].apply(lambda x:sign(x))"
   ]
  },
  {
   "cell_type": "code",
   "execution_count": null,
   "id": "6110a6af",
   "metadata": {
    "ExecuteTime": {
     "end_time": "2023-02-05T04:07:41.881603Z",
     "start_time": "2023-02-05T04:07:41.871602Z"
    }
   },
   "outputs": [],
   "source": [
    "err=data[data['Y']!=data['y_hat']].iloc[0][['X0','X1','X2','X3','X4']]*data[data['Y']!=data['y_hat']].iloc[0]['Y']\n"
   ]
  },
  {
   "cell_type": "code",
   "execution_count": null,
   "id": "59822b4a",
   "metadata": {
    "ExecuteTime": {
     "end_time": "2023-02-05T04:08:00.223548Z",
     "start_time": "2023-02-05T04:08:00.208549Z"
    }
   },
   "outputs": [],
   "source": [
    "# w=w/(w**2.sum())**0.5 #+(err[['X0','X1','X2','X3','X4']]*err['Y'])\n",
    "err=err/(sum(err**2))**0.5"
   ]
  },
  {
   "cell_type": "code",
   "execution_count": null,
   "id": "004eb2f3",
   "metadata": {
    "ExecuteTime": {
     "end_time": "2023-02-05T04:08:01.970193Z",
     "start_time": "2023-02-05T04:08:01.952193Z"
    }
   },
   "outputs": [],
   "source": [
    "err"
   ]
  },
  {
   "cell_type": "code",
   "execution_count": null,
   "id": "3f494832",
   "metadata": {
    "ExecuteTime": {
     "end_time": "2023-02-05T04:08:52.786037Z",
     "start_time": "2023-02-05T04:08:52.769036Z"
    }
   },
   "outputs": [],
   "source": [
    "w=w+err\n",
    "w"
   ]
  },
  {
   "cell_type": "code",
   "execution_count": null,
   "id": "7af3a402",
   "metadata": {},
   "outputs": [],
   "source": []
  }
 ],
 "metadata": {
  "kernelspec": {
   "display_name": "Python 3 (ipykernel)",
   "language": "python",
   "name": "python3"
  },
  "language_info": {
   "codemirror_mode": {
    "name": "ipython",
    "version": 3
   },
   "file_extension": ".py",
   "mimetype": "text/x-python",
   "name": "python",
   "nbconvert_exporter": "python",
   "pygments_lexer": "ipython3",
   "version": "3.9.12"
  },
  "toc": {
   "base_numbering": 1,
   "nav_menu": {},
   "number_sections": true,
   "sideBar": true,
   "skip_h1_title": false,
   "title_cell": "Table of Contents",
   "title_sidebar": "Contents",
   "toc_cell": false,
   "toc_position": {},
   "toc_section_display": true,
   "toc_window_display": false
  }
 },
 "nbformat": 4,
 "nbformat_minor": 5
}
