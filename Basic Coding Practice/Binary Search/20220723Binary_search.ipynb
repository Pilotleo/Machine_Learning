{
  "nbformat": 4,
  "nbformat_minor": 0,
  "metadata": {
    "colab": {
      "provenance": []
    },
    "kernelspec": {
      "name": "python3",
      "display_name": "Python 3"
    },
    "language_info": {
      "name": "python"
    }
  },
  "cells": [
    {
      "cell_type": "code",
      "execution_count": null,
      "metadata": {
        "colab": {
          "base_uri": "https://localhost:8080/"
        },
        "id": "Wx0EED1SlP2g",
        "outputId": "1d447339-a62c-46a8-b621-7a72d72baded"
      },
      "outputs": [
        {
          "output_type": "stream",
          "name": "stdout",
          "text": [
            "0\n",
            "1\n",
            "1\n",
            "2\n",
            "3\n",
            "5\n",
            "8\n",
            "13\n",
            "21\n",
            "34\n",
            "55\n",
            "89\n",
            "144\n",
            "233\n",
            "377\n",
            "610\n",
            "987\n",
            "1597\n",
            "2584\n",
            "4181\n"
          ]
        }
      ],
      "source": [
        "def fib(n):\n",
        "  for i in range(0,n+1):  \n",
        "    if i==0:\n",
        "      n0=0\n",
        "      n1=0\n",
        "      n2=0   \n",
        "    elif i==1:\n",
        "      n0=0\n",
        "      n1=0\n",
        "      n2=1   \n",
        "    else:                              \n",
        "      n0=n1\n",
        "      n1=n2\n",
        "      n2=n1+n0\n",
        "  return n2     \n",
        "for i in range(0,20):\n",
        "  print(fib(i))\n",
        "\n",
        "#012345\n",
        "#011123\n",
        "#000112\n",
        "#011235\n",
        "\n"
      ]
    },
    {
      "cell_type": "code",
      "source": [
        "def fib(n):\n",
        "  if n == 0:\n",
        "    return 0\n",
        "  elif n ==1:\n",
        "    return 1\n",
        "  else: \n",
        "    return fib(n-1)+fib(n-2)\n",
        "for i in range(0,20):\n",
        "  print(fib(i))    "
      ],
      "metadata": {
        "colab": {
          "base_uri": "https://localhost:8080/"
        },
        "id": "Fle4Jt7ttWAo",
        "outputId": "7323780d-ec05-43c6-d5c4-8d2f67df3e57"
      },
      "execution_count": null,
      "outputs": [
        {
          "output_type": "stream",
          "name": "stdout",
          "text": [
            "0\n",
            "1\n",
            "1\n",
            "2\n",
            "3\n",
            "5\n",
            "8\n",
            "13\n",
            "21\n",
            "34\n",
            "55\n",
            "89\n",
            "144\n",
            "233\n",
            "377\n",
            "610\n",
            "987\n",
            "1597\n",
            "2584\n",
            "4181\n"
          ]
        }
      ]
    },
    {
      "cell_type": "code",
      "source": [
        "a1 =[1,2,3,4,5,7,5555,9999,7888,4,4813,518,456,556]\n",
        "for i in range(0,(len(a1))):\n",
        "  if a1[i]==7:\n",
        "    print(7,'index=',i)\n",
        "    break\n",
        "  else:\n",
        "    print('nope')"
      ],
      "metadata": {
        "colab": {
          "base_uri": "https://localhost:8080/"
        },
        "id": "YXwr1Fnxuh0x",
        "outputId": "5669b259-24ba-4b83-818c-2f860d9f273e"
      },
      "execution_count": null,
      "outputs": [
        {
          "output_type": "stream",
          "name": "stdout",
          "text": [
            "nope\n",
            "nope\n",
            "nope\n",
            "nope\n",
            "nope\n",
            "7 index= 5\n"
          ]
        }
      ]
    },
    {
      "cell_type": "markdown",
      "source": [
        "Binary search"
      ],
      "metadata": {
        "id": "KBe-p0Twx93h"
      }
    },
    {
      "cell_type": "markdown",
      "source": [
        "就是終極密碼的概念，每次都用中位數去找比對大小，並持續調整高低直到找到目標值。"
      ],
      "metadata": {
        "id": "tykEL_9h0fjK"
      }
    },
    {
      "cell_type": "code",
      "source": [
        "import random\n",
        "\n",
        "array = set()\n",
        "for i in range(0,1000):\n",
        "    array.add(random.randint(0, 10000))\n",
        "array = list(array)\n",
        "\n",
        "array = sorted(array)\n",
        "\n",
        "#challange \n",
        "\n",
        "print(f\"Find the position of {array[random.randint(50, len(array))]}\")\n",
        "\n",
        "\n"
      ],
      "metadata": {
        "id": "d5NAxGKSyA4D",
        "colab": {
          "base_uri": "https://localhost:8080/"
        },
        "outputId": "ce974296-133c-418b-d97b-2f849ca9b237"
      },
      "execution_count": null,
      "outputs": [
        {
          "output_type": "stream",
          "name": "stdout",
          "text": [
            "Find the position of 658\n"
          ]
        }
      ]
    },
    {
      "cell_type": "code",
      "source": [
        "n=0\n",
        "min=0\n",
        "max=len(array)\n",
        "mid = round((min+max)/2)\n",
        "print(mid)\n",
        "while mid>1:\n",
        "  if array[mid]>658:\n",
        "    max =mid\n",
        "    mid = round((min+max)/2)\n",
        "  elif array[mid]<658:\n",
        "    min = mid\n",
        "    mid = round((min+max)/2)\n",
        "  else:\n",
        "    print(f'The index of 658 is {mid}')\n",
        "    print(n+1)\n",
        "    break\n",
        "  n+=1"
      ],
      "metadata": {
        "colab": {
          "base_uri": "https://localhost:8080/"
        },
        "id": "9zCXGsuX49zY",
        "outputId": "17d17433-671d-4fa7-a1f1-440a351b3905"
      },
      "execution_count": null,
      "outputs": [
        {
          "output_type": "stream",
          "name": "stdout",
          "text": [
            "480\n",
            "The index of 658 is 78\n",
            "8\n"
          ]
        }
      ]
    },
    {
      "cell_type": "code",
      "source": [
        "def fib(n):\n",
        "  for i in range(0,n+1):\n",
        "    if i==0:\n",
        "      n0=0\n",
        "      n1=0\n",
        "      n2=0\n",
        "    elif i ==1:\n",
        "      n0=0\n",
        "      n1=0\n",
        "      n2=1\n",
        "    else:\n",
        "      n0=n1\n",
        "      n1=n2\n",
        "      n2=n0+n1\n",
        "  return n2\n",
        "for i in range(0,15):\n",
        "  print(fib(i))\n"
      ],
      "metadata": {
        "colab": {
          "base_uri": "https://localhost:8080/"
        },
        "id": "Em-yvXsiICmt",
        "outputId": "bb562702-8b4f-4a7a-b982-76fbfa2a31e8"
      },
      "execution_count": null,
      "outputs": [
        {
          "output_type": "stream",
          "name": "stdout",
          "text": [
            "0\n",
            "1\n",
            "1\n",
            "2\n",
            "3\n",
            "5\n",
            "8\n",
            "13\n",
            "21\n",
            "34\n",
            "55\n",
            "89\n",
            "144\n",
            "233\n",
            "377\n"
          ]
        }
      ]
    },
    {
      "cell_type": "code",
      "source": [
        "def fib(n):\n",
        "  if n ==0:\n",
        "    return n\n",
        "  elif n ==1:\n",
        "    return n\n",
        "  else:\n",
        "    return fib(n-1)+fib(n-2)\n",
        "for i in range(0,15):\n",
        "  print(fib(i))"
      ],
      "metadata": {
        "colab": {
          "base_uri": "https://localhost:8080/"
        },
        "id": "hmbotB7OJR7P",
        "outputId": "f4057c28-3793-49e5-b204-9b0d6f41d115"
      },
      "execution_count": null,
      "outputs": [
        {
          "output_type": "stream",
          "name": "stdout",
          "text": [
            "0\n",
            "1\n",
            "1\n",
            "2\n",
            "3\n",
            "5\n",
            "8\n",
            "13\n",
            "21\n",
            "34\n",
            "55\n",
            "89\n",
            "144\n",
            "233\n",
            "377\n"
          ]
        }
      ]
    }
  ]
}