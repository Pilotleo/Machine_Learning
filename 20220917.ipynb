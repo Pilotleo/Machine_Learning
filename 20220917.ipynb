{
 "cells": [
  {
   "cell_type": "code",
   "execution_count": 1,
   "id": "7ddeb9ad",
   "metadata": {},
   "outputs": [
    {
     "name": "stdout",
     "output_type": "stream",
     "text": [
      "{'green.html', 'pink.html', 'violet.html', 'navy.html', 'orange.html', 'red.html', 'yellow.html', 'blue.html', 'gold.html', 'purple.html'}\n"
     ]
    }
   ],
   "source": [
    "import bs4\n",
    "from bs4 import BeautifulSoup\n",
    "import urllib\n",
    "from collections import deque\n",
    "\n",
    "\n",
    "root=\"green.html\"\n",
    "nodes_list=[]\n",
    "nodes_list.append(root)\n",
    "visited =set()\n",
    "while len(nodes_list)>0:\n",
    "    node=nodes_list.pop()\n",
    "    fullnode=\"https://red574890.github.io/colors.github.io/\"+node\n",
    "    with urllib.request.urlopen(fullnode, data=None, timeout=5) as response:\n",
    "        soup = bs4.BeautifulSoup(response)\n",
    "    for child in soup.find_all('a'):\n",
    "        if(child['href'] not in visited ):\n",
    "            nodes_list.append(child['href'])\n",
    "    visited.add(node)\n",
    "print(visited)\n",
    "            \n"
   ]
  },
  {
   "cell_type": "code",
   "execution_count": 27,
   "id": "0b469ffc",
   "metadata": {},
   "outputs": [
    {
     "data": {
      "text/plain": [
       "{'blue.html',\n",
       " 'gold.html',\n",
       " 'green.html',\n",
       " 'navy.html',\n",
       " 'orange.html',\n",
       " 'pink.html',\n",
       " 'purple.html',\n",
       " 'red.html',\n",
       " 'violet.html',\n",
       " 'yellow.html'}"
      ]
     },
     "execution_count": 27,
     "metadata": {},
     "output_type": "execute_result"
    }
   ],
   "source": [
    "visited"
   ]
  },
  {
   "cell_type": "code",
   "execution_count": 41,
   "id": "dcb15ade",
   "metadata": {},
   "outputs": [
    {
     "name": "stdout",
     "output_type": "stream",
     "text": [
      "green.html\n",
      "navy.html\n",
      "red.html\n",
      "blue.html\n",
      "orange.html\n",
      "pink.html\n",
      "violet.html\n",
      "purple.html\n",
      "gold.html\n",
      "yellow.html\n"
     ]
    }
   ],
   "source": [
    "root=\"green.html\"\n",
    "nodes_list=deque()\n",
    "nodes_list.append(root)\n",
    "visited =set()\n",
    "target = \"blue.html\"\n",
    "while len(nodes_list)>0:\n",
    "    node=nodes_list.popleft()\n",
    "    fullnode=\"https://red574890.github.io/colors.github.io/\"+node\n",
    "    with urllib.request.urlopen(fullnode, data=None, timeout=5) as response:\n",
    "        soup = bs4.BeautifulSoup(response)\n",
    "    for child in soup.find_all('a'):\n",
    "        if(child['href'] not in visited ):\n",
    "            nodes_list.append(child['href'])\n",
    "    visited.add(node)\n",
    "    print(node)\n",
    "            \n"
   ]
  },
  {
   "cell_type": "code",
   "execution_count": 47,
   "id": "f24baede",
   "metadata": {},
   "outputs": [],
   "source": [
    "class Linkedlist:\n",
    "    def __init__(self,num):\n",
    "        self.number =num\n",
    "        self.next = None"
   ]
  },
  {
   "cell_type": "code",
   "execution_count": 48,
   "id": "557156d6",
   "metadata": {},
   "outputs": [],
   "source": [
    "A = Linkedlist(1)\n",
    "B = Linkedlist(2)\n",
    "C= Linkedlist(3)\n",
    "A.next =B\n",
    "B.next = C\n",
    "\n"
   ]
  },
  {
   "cell_type": "code",
   "execution_count": 52,
   "id": "3e405a86",
   "metadata": {},
   "outputs": [
    {
     "name": "stdout",
     "output_type": "stream",
     "text": [
      "1\n",
      "2\n",
      "3\n"
     ]
    }
   ],
   "source": [
    "root =A\n",
    "while root != None:\n",
    "    print(root.number)\n",
    "    root=root.next\n",
    "#用linkedlist可以不用重複叫出所有的list，節省空間的複雜度，但短時間要查詢特定東西的話則是用lIST比較好"
   ]
  },
  {
   "cell_type": "code",
   "execution_count": 43,
   "id": "3069916f",
   "metadata": {},
   "outputs": [],
   "source": [
    "class human:\n",
    "    def __init__(self,height,weight,haircolor):\n",
    "        self.height=height\n",
    "        self.weight=weight\n",
    "        self.haircolor=haircolor\n"
   ]
  }
 ],
 "metadata": {
  "kernelspec": {
   "display_name": "Python 3 (ipykernel)",
   "language": "python",
   "name": "python3"
  },
  "language_info": {
   "codemirror_mode": {
    "name": "ipython",
    "version": 3
   },
   "file_extension": ".py",
   "mimetype": "text/x-python",
   "name": "python",
   "nbconvert_exporter": "python",
   "pygments_lexer": "ipython3",
   "version": "3.9.12"
  }
 },
 "nbformat": 4,
 "nbformat_minor": 5
}
